# -*- coding: utf-8 -*-
"""
Spyder Editor

This is a temporary script file.
"""

print ("David Trejo")
print ("J01041479")
print ("Live For Today")
